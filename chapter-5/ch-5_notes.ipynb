{
 "cells": [
  {
   "cell_type": "code",
   "execution_count": 1,
   "metadata": {},
   "outputs": [
    {
     "name": "stderr",
     "output_type": "stream",
     "text": [
      "/Users/joelvenzke/anaconda3/lib/python3.7/importlib/_bootstrap.py:219: RuntimeWarning: numpy.ufunc size changed, may indicate binary incompatibility. Expected 192 from C header, got 216 from PyObject\n",
      "  return f(*args, **kwds)\n"
     ]
    }
   ],
   "source": [
    "import numpy as np \n",
    "from sklearn import datasets\n",
    "from sklearn.pipeline import Pipeline\n",
    "from sklearn.preprocessing import StandardScaler\n",
    "from sklearn.svm import LinearSVC\n",
    "\n",
    "iris = datasets.load_iris()\n",
    "X = iris['data'][:, (2,3)] # petal length, petal width\n",
    "y = (iris['target']==2).astype(np.float64) # Iris virginica"
   ]
  },
  {
   "cell_type": "code",
   "execution_count": 4,
   "metadata": {},
   "outputs": [
    {
     "data": {
      "text/plain": [
       "Pipeline(steps=[('scaler', StandardScaler()),\n",
       "                ('linear_svc', LinearSVC(C=1, loss='hinge'))])"
      ]
     },
     "execution_count": 4,
     "metadata": {},
     "output_type": "execute_result"
    }
   ],
   "source": [
    "svm_clf = Pipeline([\n",
    "    ('scaler', StandardScaler()),\n",
    "    ('linear_svc', LinearSVC(C=1, loss='hinge')),\n",
    "])\n",
    "svm_clf.fit(X,y)"
   ]
  },
  {
   "cell_type": "code",
   "execution_count": 5,
   "metadata": {},
   "outputs": [
    {
     "data": {
      "text/plain": [
       "array([1.])"
      ]
     },
     "execution_count": 5,
     "metadata": {},
     "output_type": "execute_result"
    }
   ],
   "source": [
    "svm_clf.predict([[5.5,1.7]])"
   ]
  },
  {
   "cell_type": "code",
   "execution_count": 28,
   "metadata": {},
   "outputs": [
    {
     "data": {
      "text/plain": [
       "Pipeline(steps=[('poly_features', PolynomialFeatures(degree=3)),\n",
       "                ('scaler', StandardScaler()),\n",
       "                ('linear_svc', LinearSVC(C=10, loss='hinge', max_iter=10000))])"
      ]
     },
     "execution_count": 28,
     "metadata": {},
     "output_type": "execute_result"
    }
   ],
   "source": [
    "from sklearn.datasets import make_moons\n",
    "from sklearn.preprocessing import PolynomialFeatures\n",
    "\n",
    "X,y = make_moons(n_samples=1000, noise=0.15)\n",
    "polynomial_svm_clf = Pipeline([\n",
    "    ('poly_features', PolynomialFeatures(degree=3)),\n",
    "    ('scaler', StandardScaler()),\n",
    "    ('linear_svc', LinearSVC(C=10, loss='hinge',max_iter=10000)),\n",
    "])\n",
    "polynomial_svm_clf.fit(X,y)"
   ]
  },
  {
   "cell_type": "code",
   "execution_count": 18,
   "metadata": {},
   "outputs": [
    {
     "name": "stdout",
     "output_type": "stream",
     "text": [
      "1.0\n"
     ]
    }
   ],
   "source": [
    "y_pred = polynomial_svm_clf.predict(X)\n",
    "n_correct = sum(y_pred == y)\n",
    "print(n_correct / len(y_pred))"
   ]
  },
  {
   "cell_type": "code",
   "execution_count": 19,
   "metadata": {},
   "outputs": [
    {
     "data": {
      "text/plain": [
       "array([1., 1., 1.])"
      ]
     },
     "execution_count": 19,
     "metadata": {},
     "output_type": "execute_result"
    }
   ],
   "source": [
    "from sklearn.model_selection import cross_val_score\n",
    "cross_val_score(polynomial_svm_clf, X, y, cv=3, scoring='accuracy')"
   ]
  },
  {
   "cell_type": "code",
   "execution_count": 33,
   "metadata": {},
   "outputs": [
    {
     "name": "stdout",
     "output_type": "stream",
     "text": [
      "[ True  True  True  True False False False False False False  True  True\n",
      "  True  True  True  True False  True False False False  True  True  True\n",
      "  True False  True False False False False False  True  True False False\n",
      " False False  True  True  True  True  True False  True False False  True\n",
      " False False False False  True  True False False  True False False False\n",
      " False False  True False False  True  True False False  True  True False\n",
      "  True  True False  True False  True False  True False False False  True\n",
      "  True  True False False  True False False  True  True False  True  True\n",
      " False False False  True  True False  True False False False False False\n",
      "  True False  True  True False  True False False False False  True  True\n",
      " False False False False  True False  True  True False False  True  True\n",
      " False  True False  True  True  True  True False  True  True False  True\n",
      " False False False False False  True False False  True False  True False\n",
      "  True False  True  True  True  True  True  True False False  True  True\n",
      " False False  True False False  True False  True False  True  True  True\n",
      "  True  True  True False  True False  True  True False False False False\n",
      "  True  True  True False  True False False  True  True  True  True False\n",
      "  True False False False False  True False  True  True False  True False\n",
      "  True  True  True False  True False False  True  True  True False False\n",
      "  True False  True False False  True False False  True  True False False\n",
      "  True  True  True  True  True  True  True  True False False  True  True\n",
      " False  True False  True  True  True  True False False  True  True False\n",
      "  True  True  True  True  True  True False False  True  True  True  True\n",
      "  True  True  True  True  True  True  True False False False False False\n",
      " False False False  True False False  True False False False False False\n",
      "  True  True  True False False  True  True False  True False False False\n",
      "  True False  True  True False  True  True False False False False False\n",
      " False  True  True False False  True  True  True  True  True False False\n",
      "  True False False False  True  True  True False  True  True False False\n",
      "  True  True  True  True False  True  True  True  True  True  True False\n",
      "  True False  True  True  True False False False False False  True False\n",
      " False False False False False False  True False False  True  True  True\n",
      " False False False False False False False False  True  True  True False\n",
      " False False  True False False  True  True False False False False False\n",
      " False False False False False False False  True  True False False False\n",
      "  True False  True  True  True  True  True False False False  True False\n",
      "  True False  True False False False  True  True False  True  True False\n",
      " False False  True False  True False False False False False  True  True\n",
      "  True  True False  True False False  True False  True  True  True  True\n",
      "  True False  True False  True False  True  True False  True False  True\n",
      " False  True False  True False False False False False False  True False\n",
      "  True False  True False False False False False  True  True False  True\n",
      " False  True  True  True False  True False False  True False False  True\n",
      " False  True False False False  True False False False  True False False\n",
      " False False  True  True False  True  True  True  True  True  True  True\n",
      "  True False  True  True False  True False False False  True  True False\n",
      " False  True False False False False False  True False  True  True  True\n",
      " False  True  True False False  True  True False False False  True  True\n",
      " False False  True  True False False False  True False  True False False\n",
      "  True False  True  True False False  True  True  True False  True  True\n",
      " False False  True  True  True  True  True False  True False  True  True\n",
      "  True False False False  True  True  True False  True False  True  True\n",
      " False False  True False  True False  True  True False False False  True\n",
      "  True False False False  True False  True False  True False False  True\n",
      " False False  True False False False False False  True  True False False\n",
      "  True  True  True  True False False  True  True  True  True  True False\n",
      " False  True False  True  True  True  True False  True  True  True False\n",
      "  True  True False False False  True  True False  True  True  True  True\n",
      "  True False  True  True  True False False  True False  True  True  True\n",
      "  True  True False  True False False  True  True  True  True  True  True\n",
      "  True  True  True False False False  True  True  True False False  True\n",
      " False  True  True  True False  True  True  True  True False  True  True\n",
      " False False  True  True  True False  True False False  True False False\n",
      "  True False  True False  True  True False False  True  True  True  True\n",
      "  True False  True False  True False False False  True  True  True False\n",
      "  True  True False  True False  True False  True False  True False  True\n",
      " False  True  True False  True False False  True False False  True  True\n",
      " False False False  True False  True  True  True  True False False  True\n",
      "  True False False False False False  True  True False False False  True\n",
      "  True False False False  True  True False  True False False False False\n",
      "  True False  True  True False False False False False False  True  True\n",
      " False False False  True  True False False False  True  True False False\n",
      "  True False  True False  True  True  True False False False  True False\n",
      "  True False False  True  True  True False False  True  True False False\n",
      "  True False  True False False False  True  True  True False  True False\n",
      " False False False False False  True  True  True  True False  True  True\n",
      " False  True False  True False False False  True False False False  True\n",
      " False  True False  True False False False False  True False  True  True\n",
      " False False False False  True  True False False  True  True  True  True\n",
      " False False False  True  True False  True  True False False  True False\n",
      " False False  True  True False  True False  True  True False  True False\n",
      "  True  True False  True  True  True  True False  True  True  True  True\n",
      "  True False  True False  True  True  True False False False False False\n",
      "  True  True False  True]\n"
     ]
    },
    {
     "data": {
      "image/png": "[encoded data removed]",
      "text/plain": [
       "<Figure size 432x288 with 1 Axes>"
      ]
     },
     "metadata": {
      "needs_background": "light"
     },
     "output_type": "display_data"
    }
   ],
   "source": [
    "import matplotlib.pyplot as plt\n",
    "%matplotlib inline\n",
    "\n",
    "index = (y==0)\n",
    "plt.scatter(X[index,0], X[index,1])\n",
    "index = (y==1)\n",
    "plt.scatter(X[index,0], X[index,1])\n",
    "plt.show()"
   ]
  },
  {
   "cell_type": "code",
   "execution_count": 31,
   "metadata": {},
   "outputs": [
    {
     "data": {
      "text/plain": [
       "array([0.97305389, 0.99099099, 0.99099099])"
      ]
     },
     "execution_count": 31,
     "metadata": {},
     "output_type": "execute_result"
    }
   ],
   "source": [
    "from sklearn.svm import SVC\n",
    "\n",
    "poly_kernel_svm_clf = Pipeline([\n",
    "    ('scaler', StandardScaler()), \n",
    "    ('svm_clf', SVC(kernel='poly', degree=3, coef0=1, C=5))\n",
    "])\n",
    "cross_val_score(poly_kernel_svm_clf, X, y, cv=3, scoring='accuracy')"
   ]
  },
  {
   "cell_type": "code",
   "execution_count": 26,
   "metadata": {},
   "outputs": [
    {
     "data": {
      "text/plain": [
       "Pipeline(steps=[('scaler', StandardScaler()),\n",
       "                ('svm_clf', SVC(C=0.001, gamma=5))])"
      ]
     },
     "execution_count": 26,
     "metadata": {},
     "output_type": "execute_result"
    }
   ],
   "source": [
    "rbf_kernel_svm_clf = Pipeline([\n",
    "    ('scaler', StandardScaler()),\n",
    "    ('svm_clf', SVC(kernel='rbf', gamma=5, C=0.001))\n",
    "])\n",
    "rbf_kernel_svm_clf.fit(X,y)"
   ]
  },
  {
   "cell_type": "code",
   "execution_count": 32,
   "metadata": {},
   "outputs": [
    {
     "data": {
      "text/plain": [
       "array([0.98203593, 0.4984985 , 0.4984985 ])"
      ]
     },
     "execution_count": 32,
     "metadata": {},
     "output_type": "execute_result"
    }
   ],
   "source": [
    "cross_val_score(rbf_kernel_svm_clf, X, y, cv=3, scoring='accuracy')"
   ]
  },
  {
   "cell_type": "code",
   "execution_count": null,
   "metadata": {},
   "outputs": [],
   "source": []
  }
 ],
 "metadata": {
  "kernelspec": {
   "display_name": "Python 3",
   "language": "python",
   "name": "python3"
  },
  "language_info": {
   "codemirror_mode": {
    "name": "ipython",
    "version": 3
   },
   "file_extension": ".py",
   "mimetype": "text/x-python",
   "name": "python",
   "nbconvert_exporter": "python",
   "pygments_lexer": "ipython3",
   "version": "3.7.6"
  }
 },
 "nbformat": 4,
 "nbformat_minor": 4
}
